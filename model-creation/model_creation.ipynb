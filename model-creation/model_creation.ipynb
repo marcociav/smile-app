{
  "nbformat": 4,
  "nbformat_minor": 0,
  "metadata": {
    "colab": {
      "name": "model_creation.ipynb",
      "provenance": [],
      "collapsed_sections": [],
      "authorship_tag": "ABX9TyP5863fUqyr+ydOQASU9765",
      "include_colab_link": true
    },
    "kernelspec": {
      "name": "python3",
      "display_name": "Python 3"
    },
    "language_info": {
      "name": "python"
    },
    "accelerator": "GPU"
  },
  "cells": [
    {
      "cell_type": "markdown",
      "metadata": {
        "id": "view-in-github",
        "colab_type": "text"
      },
      "source": [
        "<a href=\"https://colab.research.google.com/github/marcociav/smile-app/blob/master/model-creation/model_creation.ipynb\" target=\"_parent\"><img src=\"https://colab.research.google.com/assets/colab-badge.svg\" alt=\"Open In Colab\"/></a>"
      ]
    },
    {
      "cell_type": "markdown",
      "source": [
        "# Smile App - Model Creation"
      ],
      "metadata": {
        "id": "SRM4hGLDX_MW"
      }
    },
    {
      "cell_type": "markdown",
      "source": [
        "## Imports"
      ],
      "metadata": {
        "id": "OS3-FiEbZIru"
      }
    },
    {
      "cell_type": "markdown",
      "source": [
        "### Packages"
      ],
      "metadata": {
        "id": "qD4Nw_iwb4SU"
      }
    },
    {
      "cell_type": "code",
      "execution_count": 1,
      "metadata": {
        "id": "kL70KfO-7yae"
      },
      "outputs": [],
      "source": [
        "import os\n",
        "from glob import glob\n",
        "import numpy as np\n",
        "import matplotlib.pyplot as plt\n",
        "\n",
        "import tensorflow as tf\n",
        "from tensorflow import keras\n",
        "from tensorflow.keras import layers"
      ]
    },
    {
      "cell_type": "code",
      "source": [
        "# check if everything is properly configured\n",
        "print(f\"GPU(s): {tf.config.list_physical_devices('GPU')}\")\n",
        "print(f\"tensorflow version: {tf.__version__}\")"
      ],
      "metadata": {
        "colab": {
          "base_uri": "https://localhost:8080/"
        },
        "id": "ZFvPpJDH72hw",
        "outputId": "8348d58a-99c0-4a62-c078-1dc09192777b"
      },
      "execution_count": 2,
      "outputs": [
        {
          "output_type": "stream",
          "name": "stdout",
          "text": [
            "GPU(s): [PhysicalDevice(name='/physical_device:GPU:0', device_type='GPU')]\n",
            "tensorflow version: 2.7.0\n"
          ]
        }
      ]
    },
    {
      "cell_type": "markdown",
      "source": [
        "### Images and Labels"
      ],
      "metadata": {
        "id": "FRzGnl8nb8Se"
      }
    },
    {
      "cell_type": "code",
      "source": [
        "with open('data/labels/SMILE_list.txt') as f:\n",
        "  smile_labels = f.read().split('\\n')\n",
        "  smile_labels = [label.replace('.jpg', '.ppm') for label in smile_labels]\n",
        "\n",
        "with open('data/labels/NON-SMILE_list.txt') as f:\n",
        "  non_smile_labels = f.read().split('\\n')\n",
        "  non_smile_labels = [label.replace('.jpg', '.ppm') for label in non_smile_labels]\n",
        "\n",
        "all_labels = smile_labels + non_smile_labels\n",
        "\n",
        "n_labels = len(smile_labels) + len(non_smile_labels)\n"
      ],
      "metadata": {
        "id": "cZ-0Ygw-OFKf"
      },
      "execution_count": 3,
      "outputs": []
    },
    {
      "cell_type": "code",
      "source": [
        "def get_image_paths(img_directory, labels):\n",
        "  img_paths = [path for path in glob(f'{img_directory}/*.ppm') if path.split('\\\\')[-1] in labels]\n",
        "  return img_paths"
      ],
      "metadata": {
        "id": "yjT2KdYmmjXU"
      },
      "execution_count": 4,
      "outputs": []
    },
    {
      "cell_type": "code",
      "source": [
        "image_paths = get_image_paths('data/images/faces', all_labels)\n",
        "smile_image_paths = get_image_paths('data/images/faces', smile_labels)\n",
        "non_smile_image_paths = get_image_paths('data/images/faces', non_smile_labels)\n",
        "n_images = len(image_paths)"
      ],
      "metadata": {
        "id": "11xorU1amgwo"
      },
      "execution_count": 5,
      "outputs": []
    },
    {
      "cell_type": "markdown",
      "source": [
        "## Data Cleaning"
      ],
      "metadata": {
        "id": "Kl6p628JkaJi"
      }
    },
    {
      "cell_type": "markdown",
      "source": [
        "### Extra labels"
      ],
      "metadata": {
        "id": "tEyENqzoki3Z"
      }
    },
    {
      "cell_type": "code",
      "source": [
        "print(n_images)\n",
        "print(n_labels)"
      ],
      "metadata": {
        "colab": {
          "base_uri": "https://localhost:8080/"
        },
        "id": "f98gvY5mhSNp",
        "outputId": "e7a82930-f5c1-43b6-fbaa-e10059b3a4a8"
      },
      "execution_count": 6,
      "outputs": [
        {
          "output_type": "stream",
          "name": "stdout",
          "text": [
            "1203\n",
            "1208\n"
          ]
        }
      ]
    },
    {
      "cell_type": "code",
      "source": [
        "extra_labels = list(set(all_labels) - set(path.split('\\\\')[-1] for path in image_paths))\n",
        "print(extra_labels)"
      ],
      "metadata": {
        "colab": {
          "base_uri": "https://localhost:8080/"
        },
        "id": "c64ATw_VikJu",
        "outputId": "3b2a1b1d-eb9f-46c0-bd1b-5e4a162d2893"
      },
      "execution_count": 7,
      "outputs": [
        {
          "output_type": "stream",
          "name": "stdout",
          "text": [
            "['', 'SMILE_list.txt', 'listt.txt', ' ']\n"
          ]
        }
      ]
    },
    {
      "cell_type": "code",
      "source": [
        "print(f\"smile labels before: {len(smile_labels)}\")\n",
        "for extra in extra_labels:\n",
        "  smile_labels = list(filter(lambda label: label != extra, smile_labels))\n",
        "\n",
        "print(f\"smile labels after: {len(smile_labels)}\")"
      ],
      "metadata": {
        "colab": {
          "base_uri": "https://localhost:8080/"
        },
        "id": "AwXsyGQ4kuLt",
        "outputId": "d5800a55-434f-432c-f227-e537a539edd0"
      },
      "execution_count": 8,
      "outputs": [
        {
          "output_type": "stream",
          "name": "stdout",
          "text": [
            "smile labels before: 603\n",
            "smile labels after: 600\n"
          ]
        }
      ]
    },
    {
      "cell_type": "code",
      "source": [
        "print(f\"non smile labels before: {len(non_smile_labels)}\")\n",
        "for extra in extra_labels:\n",
        "  non_smile_labels = list(filter(lambda label: label != extra, non_smile_labels))\n",
        "\n",
        "print(f\"non smile labels after: {len(non_smile_labels)}\")"
      ],
      "metadata": {
        "colab": {
          "base_uri": "https://localhost:8080/"
        },
        "id": "_9-COJyNlSFH",
        "outputId": "9457cd41-149b-4110-eb9a-68f2314e52eb"
      },
      "execution_count": 9,
      "outputs": [
        {
          "output_type": "stream",
          "name": "stdout",
          "text": [
            "non smile labels before: 605\n",
            "non smile labels after: 603\n"
          ]
        }
      ]
    },
    {
      "cell_type": "code",
      "source": [
        "all_labels = smile_labels + non_smile_labels"
      ],
      "metadata": {
        "id": "xaxswk6zlhEm"
      },
      "execution_count": 10,
      "outputs": []
    },
    {
      "cell_type": "markdown",
      "source": [
        "## EDA"
      ],
      "metadata": {
        "id": "8YPSGM10XvJV"
      }
    },
    {
      "cell_type": "code",
      "source": [
        "# TODO: Start looking at smile_images and non_smile_images\n",
        "# The plan is to train a CycleGAN where:\n",
        "# 1. The Generator1 (G1) tries to generate a smile image starting from a non smile\n",
        "# 2. The Discriminator1 (D1) tries to tell if smile is really a smile\n",
        "# 3. The Generator2 (G2) tries to generate a non smile image starting from the smile generated by G1\n",
        "# 4. The Discriminator2 (D2) tries to tell if non smile is really a non smile"
      ],
      "metadata": {
        "id": "jhRAwxGjVpqG"
      },
      "execution_count": null,
      "outputs": []
    }
  ]
}